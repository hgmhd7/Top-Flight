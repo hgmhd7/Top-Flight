{
 "cells": [
  {
   "cell_type": "code",
   "execution_count": null,
   "metadata": {},
   "outputs": [],
   "source": [
    "# Import dependencies\n",
    "import pandas as pd"
   ]
  },
  {
   "cell_type": "code",
   "execution_count": null,
   "metadata": {},
   "outputs": [],
   "source": [
    "# Get CSVs\n",
    "routes = \"all_routes.csv\"\n",
    "airports = \"all_airports_plus_ratings_and_websites.csv\""
   ]
  },
  {
   "cell_type": "code",
   "execution_count": null,
   "metadata": {},
   "outputs": [],
   "source": [
    "# Creat DFs\n",
    "airports_df = pd.read_csv(airports, thousands=',')\n",
    "routes_df = pd.read_csv(routes, thousands=',')"
   ]
  },
  {
   "cell_type": "markdown",
   "metadata": {},
   "source": [
    "# Create airport data for globe"
   ]
  },
  {
   "cell_type": "code",
   "execution_count": null,
   "metadata": {},
   "outputs": [],
   "source": [
    "# Check DF\n",
    "airports_df.head()"
   ]
  },
  {
   "cell_type": "code",
   "execution_count": null,
   "metadata": {},
   "outputs": [],
   "source": [
    "# Check shape\n",
    "airports_df.shape"
   ]
  },
  {
   "cell_type": "code",
   "execution_count": null,
   "metadata": {},
   "outputs": [],
   "source": [
    "# Check Dtypes\n",
    "airports_df.dtypes"
   ]
  },
  {
   "cell_type": "code",
   "execution_count": null,
   "metadata": {},
   "outputs": [],
   "source": [
    "# Filter DF to valid airport ratings\n",
    "airports_df_reduced = airports_df[airports_df[\"airport_rating\"] != \"not found\"]"
   ]
  },
  {
   "cell_type": "code",
   "execution_count": null,
   "metadata": {},
   "outputs": [],
   "source": [
    "# Check shape\n",
    "airports_df_reduced.shape"
   ]
  },
  {
   "cell_type": "code",
   "execution_count": null,
   "metadata": {},
   "outputs": [],
   "source": [
    "# Check Dtypes\n",
    "airports_df_reduced.dtypes"
   ]
  },
  {
   "cell_type": "code",
   "execution_count": null,
   "metadata": {},
   "outputs": [],
   "source": [
    "# Convert airport ratings to numeric and ckeck\n",
    "airports_df_reduced[\"airport_rating\"] = pd.to_numeric(airports_df_reduced[\"airport_rating\"], errors='coerce')"
   ]
  },
  {
   "cell_type": "code",
   "execution_count": null,
   "metadata": {},
   "outputs": [],
   "source": [
    "# Convert number ratings to numeric and ckeck\n",
    "airports_df_reduced[\"number_ratings\"] = pd.to_numeric(airports_df_reduced[\"number_ratings\"], errors='coerce')"
   ]
  },
  {
   "cell_type": "code",
   "execution_count": null,
   "metadata": {},
   "outputs": [],
   "source": [
    "# Check Dtypes\n",
    "airports_df_reduced.dtypes"
   ]
  },
  {
   "cell_type": "code",
   "execution_count": null,
   "metadata": {},
   "outputs": [],
   "source": [
    "# Check DF\n",
    "airports_df_reduced.head()"
   ]
  },
  {
   "cell_type": "code",
   "execution_count": null,
   "metadata": {},
   "outputs": [],
   "source": [
    "# Filter for ratings and check shape\n",
    "airports_df_rating_thresh_df = airports_df_reduced[airports_df_reduced[\"number_ratings\"] >= 50]\n",
    "\n",
    "airports_df_rating_thresh_df.shape"
   ]
  },
  {
   "cell_type": "code",
   "execution_count": null,
   "metadata": {},
   "outputs": [],
   "source": [
    "# Reset index and check DF\n",
    "airports_df_rating_thresh_df.reset_index(level=0, inplace=True)\n",
    "\n",
    "airports_df_rating_thresh_df"
   ]
  },
  {
   "cell_type": "code",
   "execution_count": null,
   "metadata": {},
   "outputs": [],
   "source": [
    "# Correct the index\n",
    "airports_df_rating_thresh_df[\"index\"] = [i for i in range(0, 2321)]"
   ]
  },
  {
   "cell_type": "code",
   "execution_count": null,
   "metadata": {},
   "outputs": [],
   "source": [
    "# Delete the timezone column since it was giving us errors on the JS promise in the app\n",
    "# This was because the column had NaNs in it and the promises dont handle those well\n",
    "# This prbably happened if I did a to numeric coerce earlier on...???\n",
    "del airports_df_rating_thresh_df[\"timezone\"]"
   ]
  },
  {
   "cell_type": "code",
   "execution_count": null,
   "metadata": {},
   "outputs": [],
   "source": [
    "# Check DF\n",
    "airports_df_rating_thresh_df"
   ]
  },
  {
   "cell_type": "code",
   "execution_count": null,
   "metadata": {},
   "outputs": [],
   "source": [
    "# Export DF\n",
    "airports_df_rating_thresh_df.to_csv(r'C:\\Users\\howar\\Desktop\\Data Science Boot Camp\\Group_Project_2\\Airport_Viz_App\\static\\raw_data_and_Pandas\\final_airport_globe_data.csv', index = False)"
   ]
  },
  {
   "cell_type": "markdown",
   "metadata": {},
   "source": [
    "# Create data for D3 plots"
   ]
  },
  {
   "cell_type": "code",
   "execution_count": null,
   "metadata": {},
   "outputs": [],
   "source": [
    "# Check head\n",
    "routes_df.head()"
   ]
  },
  {
   "cell_type": "code",
   "execution_count": null,
   "metadata": {},
   "outputs": [],
   "source": [
    "# Check shape\n",
    "routes_df.shape"
   ]
  },
  {
   "cell_type": "code",
   "execution_count": null,
   "metadata": {},
   "outputs": [],
   "source": [
    "# Check Dtypes\n",
    "routes_df.dtypes"
   ]
  },
  {
   "cell_type": "code",
   "execution_count": null,
   "metadata": {},
   "outputs": [],
   "source": [
    "# Set base number of routes for use in the routes groupby later on\n",
    "routes_df[\"number_routes\"] = 1\n",
    "\n",
    "routes_df.head()"
   ]
  },
  {
   "cell_type": "code",
   "execution_count": null,
   "metadata": {},
   "outputs": [],
   "source": [
    "# Create route group object\n",
    "routes_group = routes_df.groupby(routes_df[\"srcIata\"])"
   ]
  },
  {
   "cell_type": "code",
   "execution_count": null,
   "metadata": {},
   "outputs": [],
   "source": [
    "# Create DF for the routes groups\n",
    "total_routes = routes_group.number_routes.sum()\n",
    "\n",
    "number_routes_df = pd.DataFrame({\"total_routes\":total_routes})\n",
    "\n",
    "number_routes_df.head()"
   ]
  },
  {
   "cell_type": "code",
   "execution_count": null,
   "metadata": {},
   "outputs": [],
   "source": [
    "# Merge the routs and airports DFs on IATA\n",
    "airports_routes_merged_df = pd.merge(airports_df, number_routes_df, left_on=\"IATA\", right_on=\"srcIata\", how=\"inner\")"
   ]
  },
  {
   "cell_type": "code",
   "execution_count": null,
   "metadata": {},
   "outputs": [],
   "source": [
    "# Check DF\n",
    "airports_routes_merged_df.head()"
   ]
  },
  {
   "cell_type": "code",
   "execution_count": null,
   "metadata": {},
   "outputs": [],
   "source": [
    "# Rest index\n",
    "airports_routes_merged_df.reset_index(level=0, inplace=True)\n",
    "\n",
    "airports_routes_merged_df.head()"
   ]
  },
  {
   "cell_type": "code",
   "execution_count": null,
   "metadata": {},
   "outputs": [],
   "source": [
    "# Check shape\n",
    "airports_routes_merged_df.shape"
   ]
  },
  {
   "cell_type": "code",
   "execution_count": null,
   "metadata": {},
   "outputs": [],
   "source": [
    "# Check Dtypes\n",
    "airports_routes_merged_df.dtypes"
   ]
  },
  {
   "cell_type": "code",
   "execution_count": null,
   "metadata": {},
   "outputs": [],
   "source": [
    "# Filter for ratings and check shape\n",
    "air_route_clean_rating_df = airports_routes_merged_df[airports_routes_merged_df[\"airport_rating\"] != \"not found\"]\n",
    "\n",
    "air_route_clean_rating_df.shape"
   ]
  },
  {
   "cell_type": "code",
   "execution_count": null,
   "metadata": {},
   "outputs": [],
   "source": [
    "# Filter for number of ratings and check shape\n",
    "air_route_clean_number_of_ratings_df = airports_routes_merged_df[airports_routes_merged_df[\"number_ratings\"] != \"not found\"]\n",
    "\n",
    "air_route_clean_number_of_ratings_df.shape"
   ]
  },
  {
   "cell_type": "code",
   "execution_count": null,
   "metadata": {},
   "outputs": [],
   "source": [
    "# Check Dtypes\n",
    "air_route_clean_number_of_ratings_df.dtypes"
   ]
  },
  {
   "cell_type": "code",
   "execution_count": null,
   "metadata": {},
   "outputs": [],
   "source": [
    "# Convert airport rating to numeric and check Dtypes\n",
    "air_route_clean_number_of_ratings_df[\"airport_rating\"] = \\\n",
    "pd.to_numeric(air_route_clean_number_of_ratings_df[\"airport_rating\"], errors='coerce')\n",
    "\n",
    "air_route_clean_number_of_ratings_df.dtypes"
   ]
  },
  {
   "cell_type": "code",
   "execution_count": null,
   "metadata": {},
   "outputs": [],
   "source": [
    "# Convert number of ratings to numeric and check Dtypes\n",
    "air_route_clean_number_of_ratings_df[\"number_ratings\"] = \\\n",
    "pd.to_numeric(air_route_clean_number_of_ratings_df[\"number_ratings\"], errors='coerce')\n",
    "\n",
    "air_route_clean_number_of_ratings_df.dtypes"
   ]
  },
  {
   "cell_type": "code",
   "execution_count": null,
   "metadata": {},
   "outputs": [],
   "source": [
    "# Filter for number of ratings and check shape\n",
    "final_scatter_plot_df = air_route_clean_number_of_ratings_df[air_route_clean_number_of_ratings_df[\"number_ratings\"] >= 50]\n",
    "\n",
    "final_scatter_plot_df.shape"
   ]
  },
  {
   "cell_type": "code",
   "execution_count": null,
   "metadata": {},
   "outputs": [],
   "source": [
    "# Correct the index\n",
    "final_scatter_plot_df[\"index\"] = [i for i in range (0, 1742)]\n",
    "\n",
    "final_scatter_plot_df.head()"
   ]
  },
  {
   "cell_type": "code",
   "execution_count": null,
   "metadata": {},
   "outputs": [],
   "source": [
    "# Delete the timezone column since it was giving us errors on the JS promise in the app\n",
    "# This was because the column had NaNs in it and the promises dont handle those well\n",
    "# This prbably happened if I did a to numeric coerce earlier on...???\n",
    "del final_scatter_plot_df[\"timezone\"]"
   ]
  },
  {
   "cell_type": "code",
   "execution_count": null,
   "metadata": {},
   "outputs": [],
   "source": [
    "# Recheck head\n",
    "final_scatter_plot_df.head()"
   ]
  },
  {
   "cell_type": "code",
   "execution_count": null,
   "metadata": {},
   "outputs": [],
   "source": [
    "# Export DF\n",
    "final_scatter_plot_df.to_csv(r'C:\\Users\\howar\\Desktop\\Data Science Boot Camp\\Group_Project_2\\Airport_Viz_App\\static\\raw_data_and_Pandas\\final_scatter_plot_data.csv', index = False)"
   ]
  },
  {
   "cell_type": "markdown",
   "metadata": {},
   "source": [
    "# Create route data"
   ]
  },
  {
   "cell_type": "code",
   "execution_count": null,
   "metadata": {},
   "outputs": [],
   "source": [
    "# Check head to refresh ourselves on the data layout in the airports DF\n",
    "airports_df_rating_thresh_df.head()"
   ]
  },
  {
   "cell_type": "code",
   "execution_count": null,
   "metadata": {},
   "outputs": [],
   "source": [
    "# Check shape\n",
    "airports_df_rating_thresh_df.shape"
   ]
  },
  {
   "cell_type": "code",
   "execution_count": null,
   "metadata": {},
   "outputs": [],
   "source": [
    "# Create empty list\n",
    "airport_IATA_list = []\n",
    "\n",
    "\n",
    "# Itterate, compare, and append\n",
    "for IATA in airports_df_rating_thresh_df[\"IATA\"]:\n",
    "    \n",
    "    airport_IATA_list.append(IATA)\n",
    "    \n",
    "# Check list   \n",
    "airport_IATA_list[:5]"
   ]
  },
  {
   "cell_type": "code",
   "execution_count": null,
   "metadata": {},
   "outputs": [],
   "source": [
    "# Check length\n",
    "len(airport_IATA_list)"
   ]
  },
  {
   "cell_type": "code",
   "execution_count": null,
   "metadata": {},
   "outputs": [],
   "source": [
    "# Check head to refresh ourselves on the data layout in the routes DF\n",
    "routes_df.head()"
   ]
  },
  {
   "cell_type": "code",
   "execution_count": null,
   "metadata": {},
   "outputs": [],
   "source": [
    "# Create empty list\n",
    "airport_routes_IATA_list = []\n",
    "\n",
    "\n",
    "# Itterate, compare, and append\n",
    "for IATA in routes_df[\"srcIata\"]:\n",
    "    \n",
    "    airport_routes_IATA_list.append(IATA)\n",
    "   \n",
    "# Check list\n",
    "airport_routes_IATA_list[:5] "
   ]
  },
  {
   "cell_type": "code",
   "execution_count": null,
   "metadata": {},
   "outputs": [],
   "source": [
    "# Check length\n",
    "len(airport_routes_IATA_list)"
   ]
  },
  {
   "cell_type": "code",
   "execution_count": null,
   "metadata": {},
   "outputs": [],
   "source": [
    "# Create empty list\n",
    "IATA_in_both_lists = []\n",
    "\n",
    "\n",
    "# Itterate, compare, and append\n",
    "for IATA in airport_routes_IATA_list:\n",
    "    \n",
    "    if IATA in airport_IATA_list:\n",
    "        \n",
    "        IATA_in_both_lists.append(IATA)\n",
    "      \n",
    "    \n",
    "# Check list     \n",
    "len(IATA_in_both_lists)              "
   ]
  },
  {
   "cell_type": "code",
   "execution_count": null,
   "metadata": {},
   "outputs": [],
   "source": [
    "# Trim DF and check head\n",
    "trimmed_routes_df = routes_df[routes_df[\"srcIata\"].isin(IATA_in_both_lists)]\n",
    "\n",
    "trimmed_routes_df.head()"
   ]
  },
  {
   "cell_type": "code",
   "execution_count": null,
   "metadata": {},
   "outputs": [],
   "source": [
    "# Check shape\n",
    "trimmed_routes_df.shape"
   ]
  },
  {
   "cell_type": "code",
   "execution_count": null,
   "metadata": {},
   "outputs": [],
   "source": [
    "# Check DF\n",
    "final_scatter_plot_df.head()"
   ]
  },
  {
   "cell_type": "code",
   "execution_count": null,
   "metadata": {},
   "outputs": [],
   "source": [
    "# Describe data to get the mean number of routes per airport inclused in our globe plotting dataset\n",
    "final_scatter_plot_df.describe()"
   ]
  },
  {
   "cell_type": "code",
   "execution_count": null,
   "metadata": {},
   "outputs": [],
   "source": [
    "# Create empty list\n",
    "filter_the_routes_IATA_list = []\n",
    "\n",
    "\n",
    "# Itterate, compare, and append\n",
    "for index, row in final_scatter_plot_df.iterrows():\n",
    "    \n",
    "    if row[\"total_routes\"] >= 180:\n",
    "        \n",
    "        \n",
    "        filter_the_routes_IATA_list.append(row[\"IATA\"])\n",
    "        \n",
    "# Check list         \n",
    "len(filter_the_routes_IATA_list)        "
   ]
  },
  {
   "cell_type": "code",
   "execution_count": null,
   "metadata": {},
   "outputs": [],
   "source": [
    "# Trim data and check shape\n",
    "final_routes_df = trimmed_routes_df[trimmed_routes_df[\"srcIata\"].isin(filter_the_routes_IATA_list)]\n",
    "\n",
    "final_routes_df.shape"
   ]
  },
  {
   "cell_type": "code",
   "execution_count": null,
   "metadata": {},
   "outputs": [],
   "source": [
    "# Check head\n",
    "final_routes_df.head()"
   ]
  },
  {
   "cell_type": "code",
   "execution_count": null,
   "metadata": {},
   "outputs": [],
   "source": [
    "# Reset the index column after the manuall change above to optimize the amount of routes shown\n",
    "final_routes_df[\"index\"] = [i for i in range(0, (final_routes_df[\"airline\"].count()))]"
   ]
  },
  {
   "cell_type": "code",
   "execution_count": null,
   "metadata": {},
   "outputs": [],
   "source": [
    "final_routes_df[\"index\"].max()"
   ]
  },
  {
   "cell_type": "code",
   "execution_count": null,
   "metadata": {},
   "outputs": [],
   "source": [
    "# Recheck head\n",
    "final_routes_df.head()"
   ]
  },
  {
   "cell_type": "code",
   "execution_count": null,
   "metadata": {},
   "outputs": [],
   "source": [
    "# Export DF\n",
    "final_routes_df.to_csv(r'C:\\Users\\howar\\Desktop\\Data Science Boot Camp\\Group_Project_2\\Airport_Viz_App\\static\\raw_data_and_Pandas\\final_route_data.csv', index = False)"
   ]
  },
  {
   "cell_type": "code",
   "execution_count": null,
   "metadata": {},
   "outputs": [],
   "source": []
  },
  {
   "cell_type": "code",
   "execution_count": null,
   "metadata": {},
   "outputs": [],
   "source": []
  }
 ],
 "metadata": {
  "kernelspec": {
   "display_name": "Python [conda env:PythonData] *",
   "language": "python",
   "name": "conda-env-PythonData-py"
  },
  "language_info": {
   "codemirror_mode": {
    "name": "ipython",
    "version": 3
   },
   "file_extension": ".py",
   "mimetype": "text/x-python",
   "name": "python",
   "nbconvert_exporter": "python",
   "pygments_lexer": "ipython3",
   "version": "3.6.8"
  }
 },
 "nbformat": 4,
 "nbformat_minor": 2
}
